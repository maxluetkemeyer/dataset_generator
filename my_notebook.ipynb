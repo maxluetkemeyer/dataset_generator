{
 "cells": [
  {
   "cell_type": "code",
   "execution_count": 40,
   "metadata": {},
   "outputs": [],
   "source": [
    "import pandas as pd\n",
    "import numpy as np\n",
    "from car import Car, Environment\n"
   ]
  },
  {
   "cell_type": "code",
   "execution_count": 41,
   "metadata": {},
   "outputs": [
    {
     "data": {
      "text/html": [
       "<div>\n",
       "<style scoped>\n",
       "    .dataframe tbody tr th:only-of-type {\n",
       "        vertical-align: middle;\n",
       "    }\n",
       "\n",
       "    .dataframe tbody tr th {\n",
       "        vertical-align: top;\n",
       "    }\n",
       "\n",
       "    .dataframe thead th {\n",
       "        text-align: right;\n",
       "    }\n",
       "</style>\n",
       "<table border=\"1\" class=\"dataframe\">\n",
       "  <thead>\n",
       "    <tr style=\"text-align: right;\">\n",
       "      <th></th>\n",
       "    </tr>\n",
       "  </thead>\n",
       "  <tbody>\n",
       "  </tbody>\n",
       "</table>\n",
       "</div>"
      ],
      "text/plain": [
       "Empty DataFrame\n",
       "Columns: []\n",
       "Index: []"
      ]
     },
     "execution_count": 41,
     "metadata": {},
     "output_type": "execute_result"
    }
   ],
   "source": [
    "df = pd.DataFrame()\n",
    "df"
   ]
  },
  {
   "cell_type": "code",
   "execution_count": 42,
   "metadata": {},
   "outputs": [],
   "source": [
    "audi = Car(model=\"A7\",\n",
    "           make=\"Audi\",\n",
    "           year=2020,\n",
    "           number_seats=5,\n",
    "           weight_in_kg=1645,\n",
    "           price_in_euro=72400,\n",
    "           fuel_level_in_percent=0.7)"
   ]
  },
  {
   "cell_type": "code",
   "execution_count": 43,
   "metadata": {},
   "outputs": [],
   "source": [
    "my_env = Environment(ambient_light_level_in_lux=10_000)"
   ]
  },
  {
   "cell_type": "code",
   "execution_count": 44,
   "metadata": {},
   "outputs": [],
   "source": [
    "def create_row(car: Car, env: Environment) -> pd.DataFrame:\n",
    "    row = pd.DataFrame([{\n",
    "        \"model\": car.model,\n",
    "        \"make\": car.make,\n",
    "        \"year\": car.year,\n",
    "        \"number_seats\": car.number_seats,\n",
    "        \"weight_in_kg\": car.weight_in_kg,\n",
    "        \"price_in_euro\": car.price_in_euro,\n",
    "        \n",
    "        \"fuel_level_in_percent\": car.fuel_level_in_percent,\n",
    "        \"ambient_light_level_in_lux\": env.ambient_light_level_in_lux,\n",
    "\n",
    "        \"speed\": car.speed,\n",
    "        \"acceleration\": car.acceleration\n",
    "    }])\n",
    "\n",
    "    return row"
   ]
  },
  {
   "cell_type": "code",
   "execution_count": 45,
   "metadata": {},
   "outputs": [],
   "source": [
    "output_df = pd.DataFrame()\n",
    "\n",
    "row_0: pd.DataFrame = create_row(car=audi, env=my_env)\n",
    "\n",
    "df_0 = pd.concat([output_df, row_0])"
   ]
  },
  {
   "cell_type": "code",
   "execution_count": 46,
   "metadata": {},
   "outputs": [
    {
     "data": {
      "text/html": [
       "<div>\n",
       "<style scoped>\n",
       "    .dataframe tbody tr th:only-of-type {\n",
       "        vertical-align: middle;\n",
       "    }\n",
       "\n",
       "    .dataframe tbody tr th {\n",
       "        vertical-align: top;\n",
       "    }\n",
       "\n",
       "    .dataframe thead th {\n",
       "        text-align: right;\n",
       "    }\n",
       "</style>\n",
       "<table border=\"1\" class=\"dataframe\">\n",
       "  <thead>\n",
       "    <tr style=\"text-align: right;\">\n",
       "      <th></th>\n",
       "      <th>model</th>\n",
       "      <th>make</th>\n",
       "      <th>year</th>\n",
       "      <th>number_seats</th>\n",
       "      <th>weight_in_kg</th>\n",
       "      <th>price_in_euro</th>\n",
       "      <th>fuel_level_in_percent</th>\n",
       "      <th>ambient_light_level_in_lux</th>\n",
       "      <th>speed</th>\n",
       "      <th>acceleration</th>\n",
       "    </tr>\n",
       "  </thead>\n",
       "  <tbody>\n",
       "    <tr>\n",
       "      <th>0</th>\n",
       "      <td>A7</td>\n",
       "      <td>Audi</td>\n",
       "      <td>2020</td>\n",
       "      <td>5</td>\n",
       "      <td>1645</td>\n",
       "      <td>72400</td>\n",
       "      <td>0.7</td>\n",
       "      <td>10000</td>\n",
       "      <td>0</td>\n",
       "      <td>0</td>\n",
       "    </tr>\n",
       "  </tbody>\n",
       "</table>\n",
       "</div>"
      ],
      "text/plain": [
       "  model  make  year  number_seats  weight_in_kg  price_in_euro  \\\n",
       "0    A7  Audi  2020             5          1645          72400   \n",
       "\n",
       "   fuel_level_in_percent  ambient_light_level_in_lux  speed  acceleration  \n",
       "0                    0.7                       10000      0             0  "
      ]
     },
     "execution_count": 46,
     "metadata": {},
     "output_type": "execute_result"
    }
   ],
   "source": [
    "df_0"
   ]
  },
  {
   "cell_type": "code",
   "execution_count": 48,
   "metadata": {},
   "outputs": [],
   "source": [
    "my_env.step(car=audi, next_acceleration=0.5)"
   ]
  },
  {
   "cell_type": "code",
   "execution_count": 49,
   "metadata": {},
   "outputs": [
    {
     "data": {
      "text/html": [
       "<div>\n",
       "<style scoped>\n",
       "    .dataframe tbody tr th:only-of-type {\n",
       "        vertical-align: middle;\n",
       "    }\n",
       "\n",
       "    .dataframe tbody tr th {\n",
       "        vertical-align: top;\n",
       "    }\n",
       "\n",
       "    .dataframe thead th {\n",
       "        text-align: right;\n",
       "    }\n",
       "</style>\n",
       "<table border=\"1\" class=\"dataframe\">\n",
       "  <thead>\n",
       "    <tr style=\"text-align: right;\">\n",
       "      <th></th>\n",
       "      <th>model</th>\n",
       "      <th>make</th>\n",
       "      <th>year</th>\n",
       "      <th>number_seats</th>\n",
       "      <th>weight_in_kg</th>\n",
       "      <th>price_in_euro</th>\n",
       "      <th>fuel_level_in_percent</th>\n",
       "      <th>ambient_light_level_in_lux</th>\n",
       "      <th>speed</th>\n",
       "      <th>acceleration</th>\n",
       "    </tr>\n",
       "  </thead>\n",
       "  <tbody>\n",
       "    <tr>\n",
       "      <th>0</th>\n",
       "      <td>A7</td>\n",
       "      <td>Audi</td>\n",
       "      <td>2020</td>\n",
       "      <td>5</td>\n",
       "      <td>1645</td>\n",
       "      <td>72400</td>\n",
       "      <td>0.7</td>\n",
       "      <td>10000</td>\n",
       "      <td>0</td>\n",
       "      <td>0.0</td>\n",
       "    </tr>\n",
       "    <tr>\n",
       "      <th>0</th>\n",
       "      <td>A7</td>\n",
       "      <td>Audi</td>\n",
       "      <td>2020</td>\n",
       "      <td>5</td>\n",
       "      <td>1645</td>\n",
       "      <td>72400</td>\n",
       "      <td>0.7</td>\n",
       "      <td>10000</td>\n",
       "      <td>0</td>\n",
       "      <td>0.5</td>\n",
       "    </tr>\n",
       "  </tbody>\n",
       "</table>\n",
       "</div>"
      ],
      "text/plain": [
       "  model  make  year  number_seats  weight_in_kg  price_in_euro  \\\n",
       "0    A7  Audi  2020             5          1645          72400   \n",
       "0    A7  Audi  2020             5          1645          72400   \n",
       "\n",
       "   fuel_level_in_percent  ambient_light_level_in_lux  speed  acceleration  \n",
       "0                    0.7                       10000      0           0.0  \n",
       "0                    0.7                       10000      0           0.5  "
      ]
     },
     "execution_count": 49,
     "metadata": {},
     "output_type": "execute_result"
    }
   ],
   "source": [
    "row_1 = create_row(car=audi, env=my_env)\n",
    "\n",
    "df_1 = pd.concat([df_0, row_1])\n",
    "\n",
    "df_1"
   ]
  },
  {
   "cell_type": "code",
   "execution_count": null,
   "metadata": {},
   "outputs": [],
   "source": []
  }
 ],
 "metadata": {
  "kernelspec": {
   "display_name": "Python 3",
   "language": "python",
   "name": "python3"
  },
  "language_info": {
   "codemirror_mode": {
    "name": "ipython",
    "version": 3
   },
   "file_extension": ".py",
   "mimetype": "text/x-python",
   "name": "python",
   "nbconvert_exporter": "python",
   "pygments_lexer": "ipython3",
   "version": "3.11.6"
  }
 },
 "nbformat": 4,
 "nbformat_minor": 2
}
