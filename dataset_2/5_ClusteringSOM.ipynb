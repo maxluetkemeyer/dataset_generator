{
 "cells": [
  {
   "cell_type": "code",
   "execution_count": 1,
   "metadata": {},
   "outputs": [
    {
     "name": "stderr",
     "output_type": "stream",
     "text": [
      "/tmp/ipykernel_9827/1666158900.py:3: DeprecationWarning: \n",
      "Pyarrow will become a required dependency of pandas in the next major release of pandas (pandas 3.0),\n",
      "(to allow more performant data types, such as the Arrow string type, and better interoperability with other libraries)\n",
      "but was not found to be installed on your system.\n",
      "If this would cause problems for you,\n",
      "please provide us feedback at https://github.com/pandas-dev/pandas/issues/54466\n",
      "        \n",
      "  import pandas as pd\n"
     ]
    }
   ],
   "source": [
    "import random\n",
    "import numpy as np\n",
    "import pandas as pd\n",
    "import seaborn as sns\n",
    "import matplotlib.pyplot as plt\n",
    "\n",
    "SEED = 42\n",
    "random.seed(SEED)\n",
    "np.random.seed(SEED)"
   ]
  },
  {
   "cell_type": "code",
   "execution_count": 2,
   "metadata": {},
   "outputs": [
    {
     "data": {
      "text/html": [
       "<div>\n",
       "<style scoped>\n",
       "    .dataframe tbody tr th:only-of-type {\n",
       "        vertical-align: middle;\n",
       "    }\n",
       "\n",
       "    .dataframe tbody tr th {\n",
       "        vertical-align: top;\n",
       "    }\n",
       "\n",
       "    .dataframe thead th {\n",
       "        text-align: right;\n",
       "    }\n",
       "</style>\n",
       "<table border=\"1\" class=\"dataframe\">\n",
       "  <thead>\n",
       "    <tr style=\"text-align: right;\">\n",
       "      <th></th>\n",
       "      <th>revenues</th>\n",
       "      <th>ebit</th>\n",
       "      <th>industry</th>\n",
       "      <th>employees</th>\n",
       "      <th>market_cap</th>\n",
       "      <th>outstanding_shares</th>\n",
       "      <th>stock_price</th>\n",
       "    </tr>\n",
       "  </thead>\n",
       "  <tbody>\n",
       "    <tr>\n",
       "      <th>0</th>\n",
       "      <td>9.894661e+10</td>\n",
       "      <td>3.368791e+10</td>\n",
       "      <td>technology</td>\n",
       "      <td>39161.284575</td>\n",
       "      <td>8.610166e+11</td>\n",
       "      <td>8.920990e+09</td>\n",
       "      <td>98.094205</td>\n",
       "    </tr>\n",
       "    <tr>\n",
       "      <th>1</th>\n",
       "      <td>8.989423e+10</td>\n",
       "      <td>5.421196e+10</td>\n",
       "      <td>technology</td>\n",
       "      <td>NaN</td>\n",
       "      <td>1.169811e+12</td>\n",
       "      <td>1.817962e+10</td>\n",
       "      <td>64.925081</td>\n",
       "    </tr>\n",
       "    <tr>\n",
       "      <th>2</th>\n",
       "      <td>8.783573e+10</td>\n",
       "      <td>4.223690e+10</td>\n",
       "      <td>technology</td>\n",
       "      <td>86764.936060</td>\n",
       "      <td>7.737738e+11</td>\n",
       "      <td>6.672160e+09</td>\n",
       "      <td>120.558326</td>\n",
       "    </tr>\n",
       "    <tr>\n",
       "      <th>3</th>\n",
       "      <td>7.903555e+10</td>\n",
       "      <td>2.921541e+10</td>\n",
       "      <td>technology</td>\n",
       "      <td>157253.941191</td>\n",
       "      <td>6.624233e+11</td>\n",
       "      <td>4.560541e+09</td>\n",
       "      <td>148.060378</td>\n",
       "    </tr>\n",
       "    <tr>\n",
       "      <th>4</th>\n",
       "      <td>7.531216e+10</td>\n",
       "      <td>3.333325e+10</td>\n",
       "      <td>technology</td>\n",
       "      <td>85562.800295</td>\n",
       "      <td>6.352531e+11</td>\n",
       "      <td>1.253771e+10</td>\n",
       "      <td>50.603175</td>\n",
       "    </tr>\n",
       "  </tbody>\n",
       "</table>\n",
       "</div>"
      ],
      "text/plain": [
       "       revenues          ebit    industry      employees    market_cap  \\\n",
       "0  9.894661e+10  3.368791e+10  technology   39161.284575  8.610166e+11   \n",
       "1  8.989423e+10  5.421196e+10  technology            NaN  1.169811e+12   \n",
       "2  8.783573e+10  4.223690e+10  technology   86764.936060  7.737738e+11   \n",
       "3  7.903555e+10  2.921541e+10  technology  157253.941191  6.624233e+11   \n",
       "4  7.531216e+10  3.333325e+10  technology   85562.800295  6.352531e+11   \n",
       "\n",
       "   outstanding_shares  stock_price  \n",
       "0        8.920990e+09    98.094205  \n",
       "1        1.817962e+10    64.925081  \n",
       "2        6.672160e+09   120.558326  \n",
       "3        4.560541e+09   148.060378  \n",
       "4        1.253771e+10    50.603175  "
      ]
     },
     "execution_count": 2,
     "metadata": {},
     "output_type": "execute_result"
    }
   ],
   "source": [
    "base_df = pd.read_csv(\"data_2.csv\", index_col=0)\n",
    "base_df.head()"
   ]
  },
  {
   "cell_type": "markdown",
   "metadata": {},
   "source": [
    "# Self-Organizing Map"
   ]
  },
  {
   "cell_type": "code",
   "execution_count": 3,
   "metadata": {},
   "outputs": [
    {
     "data": {
      "text/plain": [
       "Index(['revenues', 'ebit', 'industry', 'employees', 'market_cap',\n",
       "       'outstanding_shares', 'stock_price'],\n",
       "      dtype='object')"
      ]
     },
     "execution_count": 3,
     "metadata": {},
     "output_type": "execute_result"
    }
   ],
   "source": [
    "columns = base_df.columns\n",
    "columns"
   ]
  },
  {
   "cell_type": "code",
   "execution_count": null,
   "metadata": {},
   "outputs": [],
   "source": []
  }
 ],
 "metadata": {
  "kernelspec": {
   "display_name": "Python 3",
   "language": "python",
   "name": "python3"
  },
  "language_info": {
   "codemirror_mode": {
    "name": "ipython",
    "version": 3
   },
   "file_extension": ".py",
   "mimetype": "text/x-python",
   "name": "python",
   "nbconvert_exporter": "python",
   "pygments_lexer": "ipython3",
   "version": "3.11.6"
  }
 },
 "nbformat": 4,
 "nbformat_minor": 2
}
